{
 "cells": [
  {
   "cell_type": "code",
   "execution_count": 1,
   "id": "525d4687-fa1b-4f4b-8b96-d4afd5405979",
   "metadata": {},
   "outputs": [],
   "source": [
    "import detectron2\n",
    "from detectron2.utils.logger import setup_logger\n",
    "setup_logger()\n",
    "import numpy as np\n",
    "import os, json, cv2, random\n",
    "from detectron2 import model_zoo\n",
    "from detectron2.engine import DefaultPredictor\n",
    "from detectron2.config import get_cfg\n",
    "from detectron2.utils.visualizer import Visualizer, ColorMode\n",
    "from detectron2.data import MetadataCatalog, DatasetCatalog\n",
    "from detectron2.evaluation import COCOEvaluator, inference_on_dataset\n",
    "from detectron2.data import build_detection_test_loader"
   ]
  },
  {
   "cell_type": "code",
   "execution_count": 2,
   "id": "232eb120-0b7a-4232-82c1-b0b38a704a9d",
   "metadata": {},
   "outputs": [],
   "source": [
    "from detectron2.data.datasets import register_coco_instances\n",
    "register_coco_instances(\"my_dataset_train\", {}, r\"D:/HaxS/Dataset/Car dentss.v1i.coco-segmentation/train/_annotations.coco.json\", r\"D:/HaxS/Dataset/Car dentss.v1i.coco-segmentation/train\")\n",
    "register_coco_instances(\"my_dataset_val\", {}, r\"D:/HaxS/Dataset/Car dentss.v1i.coco-segmentation/valid/_annotations.coco.json\", r\"D:/HaxS/Dataset/Car dentss.v1i.coco-segmentation/valid\")"
   ]
  },
  {
   "cell_type": "code",
   "execution_count": 3,
   "id": "2f46f893-c8ca-4103-aa43-51fa25481869",
   "metadata": {},
   "outputs": [
    {
     "name": "stdout",
     "output_type": "stream",
     "text": [
      "\u001b[5m\u001b[31mWARNING\u001b[0m \u001b[32m[09/12 16:38:04 d2.data.datasets.coco]: \u001b[0m\n",
      "Category ids in annotations are not in [1, #categories]! We'll apply a mapping for you.\n",
      "\n",
      "\u001b[32m[09/12 16:38:04 d2.data.datasets.coco]: \u001b[0mLoaded 2478 images in COCO format from D:/HaxS/Dataset/Car dentss.v1i.coco-segmentation/train/_annotations.coco.json\n",
      "\u001b[5m\u001b[31mWARNING\u001b[0m \u001b[32m[09/12 16:38:04 d2.data.datasets.coco]: \u001b[0m\n",
      "Category ids in annotations are not in [1, #categories]! We'll apply a mapping for you.\n",
      "\n",
      "\u001b[32m[09/12 16:38:04 d2.data.datasets.coco]: \u001b[0mLoaded 101 images in COCO format from D:/HaxS/Dataset/Car dentss.v1i.coco-segmentation/valid/_annotations.coco.json\n"
     ]
    }
   ],
   "source": [
    "train_metadata = MetadataCatalog.get(\"my_dataset_train\")\n",
    "train_dataset_dicts = DatasetCatalog.get(\"my_dataset_train\")\n",
    "val_metadata = MetadataCatalog.get(\"my_dataset_val\")\n",
    "val_dataset_dicts = DatasetCatalog.get(\"my_dataset_val\")"
   ]
  },
  {
   "cell_type": "code",
   "execution_count": 4,
   "id": "7237666b-2ca7-4bb0-8c93-eafc587bf426",
   "metadata": {},
   "outputs": [
    {
     "name": "stdout",
     "output_type": "stream",
     "text": [
      "\u001b[32m[09/12 16:38:04 d2.checkpoint.detection_checkpoint]: \u001b[0m[DetectionCheckpointer] Loading from D:\\HaxS\\Models\\Medium\\model_final.pth ...\n"
     ]
    },
    {
     "name": "stderr",
     "output_type": "stream",
     "text": [
      "C:\\Users\\MUJ\\conda3\\envs\\detectron_env\\lib\\site-packages\\fvcore\\common\\checkpoint.py:252: FutureWarning: You are using `torch.load` with `weights_only=False` (the current default value), which uses the default pickle module implicitly. It is possible to construct malicious pickle data which will execute arbitrary code during unpickling (See https://github.com/pytorch/pytorch/blob/main/SECURITY.md#untrusted-models for more details). In a future release, the default value for `weights_only` will be flipped to `True`. This limits the functions that could be executed during unpickling. Arbitrary objects will no longer be allowed to be loaded via this mode unless they are explicitly allowlisted by the user via `torch.serialization.add_safe_globals`. We recommend you start setting `weights_only=True` for any use case where you don't have full control of the loaded file. Please open an issue on GitHub for any issues related to this experimental feature.\n",
      "  return torch.load(f, map_location=torch.device(\"cpu\"))\n"
     ]
    }
   ],
   "source": [
    "from detectron2.engine import DefaultTrainer\n",
    "\n",
    "cfg = get_cfg()\n",
    "cfg.OUTPUT_DIR = \"D:\\HaxS\\Models\\Medium\"\n",
    "cfg.merge_from_file(model_zoo.get_config_file(\"COCO-InstanceSegmentation/mask_rcnn_R_50_FPN_3x.yaml\"))\n",
    "cfg.DATASETS.TRAIN = (\"my_dataset_train\",)\n",
    "\n",
    "cfg.MODEL.ROI_HEADS.NUM_CLASSES = 3  # We have 4 classes.\n",
    "\n",
    "cfg.MODEL.WEIGHTS=os.path.join(cfg.OUTPUT_DIR,\"model_final.pth\")\n",
    "cfg.MODEL.ROI_HEADS.SCORE_THRESH_TEST = 0.6 # Custom\n",
    "predictor = DefaultPredictor(cfg)"
   ]
  },
  {
   "cell_type": "code",
   "execution_count": null,
   "id": "33011b2f-18ec-42f8-bbec-7b7dc109941a",
   "metadata": {},
   "outputs": [],
   "source": [
    "dir_path = r\"D:\\HaxS\\Dataset\\Car dentss.v1i.coco-segmentation\\valid\"\n",
    "\n",
    "files = [f for f in os.listdir(dir_path) if f.endswith(\".jpg\")]\n",
    "\n",
    "random_file = random.choice(files)\n",
    "\n",
    "file_path = os.path.join(dir_path, random_file)\n",
    "\n",
    "new_im = cv2.imread(file_path)\n",
    "\n",
    "outputs = predictor(new_im)\n",
    "\n",
    "v=Visualizer(new_im[:, :, ::-1], metadata=train_metadata,instance_mode=ColorMode.SEGMENTATION)\n",
    "out = v.draw_instance_predictions(outputs[\"instances\"].to(\"cpu\"))\n",
    "\n",
    "cv2.imshow(\"Segmented Image\", out.get_image()[:, :, ::-1])\n",
    "cv2.waitKey(0)\n",
    "cv2.destroyAllWindows()"
   ]
  },
  {
   "cell_type": "code",
   "execution_count": null,
   "id": "ffdf432f-1e36-462e-a7b4-bfae8a7d1524",
   "metadata": {},
   "outputs": [],
   "source": []
  }
 ],
 "metadata": {
  "kernelspec": {
   "display_name": "detectron_env",
   "language": "python",
   "name": "detectron_env"
  },
  "language_info": {
   "codemirror_mode": {
    "name": "ipython",
    "version": 3
   },
   "file_extension": ".py",
   "mimetype": "text/x-python",
   "name": "python",
   "nbconvert_exporter": "python",
   "pygments_lexer": "ipython3",
   "version": "3.8.19"
  }
 },
 "nbformat": 4,
 "nbformat_minor": 5
}
